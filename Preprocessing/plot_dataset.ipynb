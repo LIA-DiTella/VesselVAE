{
 "cells": [
  {
   "cell_type": "code",
   "execution_count": 8,
   "metadata": {},
   "outputs": [],
   "source": [
    "from logging import raiseExceptions\n",
    "from tokenize import Double\n",
    "import networkx as nx\n",
    "import matplotlib.pyplot as plt\n",
    "import torch\n",
    "from torch import nn\n",
    "from torch.utils.data import Dataset, DataLoader\n",
    "import os\n",
    "import numpy as np\n",
    "from vec3 import Vec3\n",
    "import meshplot as mp\n",
    "import torch\n",
    "torch.manual_seed(125)\n",
    "import random\n",
    "random.seed(125)\n",
    "import torch_f as torch_f\n",
    "from modelo import Node, GRASSEncoder, GRASSDecoder\n",
    "import wandb\n"
   ]
  },
  {
   "cell_type": "code",
   "execution_count": 9,
   "metadata": {},
   "outputs": [],
   "source": [
    "use_gpu = True\n",
    "device = torch.device(\"cuda:0\" if use_gpu and torch.cuda.is_available() else \"cpu\")\n",
    "\n",
    "def count_fn(f):\n",
    "    def wrapper(*args, **kwargs):\n",
    "        wrapper.count += 1\n",
    "        return f(*args, **kwargs)\n",
    "    wrapper.count = 0\n",
    "    return wrapper"
   ]
  },
  {
   "cell_type": "code",
   "execution_count": 10,
   "metadata": {},
   "outputs": [],
   "source": [
    "def plotTree( root, dec ):\n",
    "    graph = nx.Graph()\n",
    "    root.toGraph( graph, 0, dec)\n",
    "    edges=nx.get_edge_attributes(graph,'procesada')\n",
    "\n",
    "    p = mp.plot( np.array([ graph.nodes[v]['posicion'] for v in graph.nodes]), shading={'point_size':0.1}, return_plot=True)\n",
    "\n",
    "    for arista in graph.edges:\n",
    "        p.add_lines( graph.nodes[arista[0]]['posicion'], graph.nodes[arista[1]]['posicion'])\n",
    "\n",
    "    return \n",
    "\n",
    "def subplotTree( root, dec, d, c = \"black\"):\n",
    "    graph = nx.Graph()\n",
    "    root.toGraph( graph, 0, dec)\n",
    "    edges=nx.get_edge_attributes(graph,'procesada')\n",
    "\n",
    "    shading={'point_size':0.1, \"point_color\": c, \"line_color\": c}\n",
    "    #d = mp.plot( np.array([ graph.nodes[v]['posicion'] for v in graph.nodes]), shading={'point_size':0.1}, return_plot=True)\n",
    "    d.add_points( np.array([ graph.nodes[v]['posicion'] for v in graph.nodes]), shading = shading)\n",
    "    for arista in graph.edges:\n",
    "        d.add_lines( graph.nodes[arista[0]]['posicion'], graph.nodes[arista[1]]['posicion'], shading  = shading)\n",
    "\n",
    "\n",
    "    return d\n",
    "\n",
    "def traverse(root, tree):\n",
    "       \n",
    "        if root is not None:\n",
    "            traverse(root.left, tree)\n",
    "            tree.append((root.radius, root.data))\n",
    "            traverse(root.right, tree)\n",
    "            return tree\n",
    "\n",
    "def traversem(root):\n",
    "       \n",
    "        if root is not None:\n",
    "            traversem(root.left)\n",
    "            print(root)\n",
    "            traversem(root.right)\n",
    "            return \n",
    "\n",
    "def traverse_2(tree1, tree2, t_l):\n",
    "       \n",
    "        if tree1 is not None:\n",
    "            traverse_2(tree1.left, tree2.left, t_l)\n",
    "            if tree2:\n",
    "                t_l.append((tree1.radius, tree2.radius))\n",
    "                print((tree1.radius, tree2.radius))\n",
    "            else:\n",
    "                t_l.append(tree1.radius)\n",
    "                print((tree1.radius))\n",
    "            traverse_2(tree1.right, tree2, t_l)\n",
    "            return t_l\n",
    "            \n",
    "\n",
    "def traverse_conexiones(root, tree):\n",
    "        \"\"\"\n",
    "        traverse function will print all the node in the tree.\n",
    "        \"\"\"\n",
    "        if root is not None:\n",
    "            traverse_conexiones(root.left, tree)\n",
    "            if root.right is not None:\n",
    "                tree.append((root.data, root.right.data))\n",
    "            if root.left is not None:\n",
    "                tree.append((root.data, root.left.data))\n",
    "            traverse_conexiones(root.right, tree)\n",
    "            return tree\n",
    "\n",
    "def createNode(data, radius, position = None, left = None, right = None, cl_prob = None, ce = None, mse=None):\n",
    "        \"\"\"\n",
    "        Utility function to create a node.\n",
    "        \"\"\"\n",
    "        return Node(data, radius, position, left, right, cl_prob, ce, mse)\n",
    " \n",
    "def deserialize(data):\n",
    "    if  not data:\n",
    "        return \n",
    "    nodes = data.split(';')  \n",
    "    #print(\"node\",nodes[3])\n",
    "    def post_order(nodes):\n",
    "                \n",
    "        if nodes[-1] == '#':\n",
    "            nodes.pop()\n",
    "            return None\n",
    "        node = nodes.pop().split('_')\n",
    "        data = int(node[0])\n",
    "        #radius = float(node[1])\n",
    "        #print(\"node\", node)\n",
    "        #breakpoint()\n",
    "        radius = node[1]\n",
    "        #print(\"radius\", radius)\n",
    "        rad = radius.split(\",\")\n",
    "        rad [0] = rad[0].replace('[','')\n",
    "        rad [3] = rad[3].replace(']','')\n",
    "        r = []\n",
    "        for value in rad:\n",
    "            r.append(float(value))\n",
    "        #r =[float(num) for num in radius if num.isdigit()]\n",
    "        r = torch.tensor(r, device=device)\n",
    "        #breakpoint()\n",
    "        root = createNode(data, r)\n",
    "        root.right = post_order(nodes)\n",
    "        root.left = post_order(nodes)\n",
    "        \n",
    "        return root    \n",
    "    return post_order(nodes)    \n",
    "\n",
    "\n",
    "def read_tree(filename, dir):\n",
    "    #with open('./prof6/' +filename, \"r\") as f:\n",
    "    #with open('./trees/' +filename, \"r\") as f:\n",
    "    with open('./' +dir +'/' +filename, \"r\") as f:\n",
    "        byte = f.read() \n",
    "        return byte\n",
    "\n",
    "def numerar_nodos(root, count):\n",
    "    if root is not None:\n",
    "        numerar_nodos(root.left, count)\n",
    "        root.data = len(count)\n",
    "        count.append(1)\n",
    "        numerar_nodos(root.right, count)\n",
    "        return \n",
    "\n",
    "\n",
    "def traversefeatures(root, features):\n",
    "       \n",
    "    if root is not None:\n",
    "        traversefeatures(root.left, features)\n",
    "        features.append(root.radius)\n",
    "        traversefeatures(root.right, features)\n",
    "        return features\n",
    "\n",
    "def norm(root, minx, miny, minz, minr, maxx, maxy, maxz, maxr):\n",
    "    \n",
    "    if root is not None:\n",
    "        mx = minx.clone().detach()\n",
    "        my = miny.clone().detach()\n",
    "        mz = minz.clone().detach()\n",
    "        mr = minr.clone().detach()\n",
    "        Mx = maxx.clone().detach()\n",
    "        My = maxy.clone().detach()\n",
    "        Mz = maxz.clone().detach()\n",
    "        Mr = maxr.clone().detach()\n",
    "       \n",
    "        root.radius[0] = (root.radius[0] - minx)/(maxx - minx)\n",
    "        root.radius[1] = (root.radius[1] - miny)/(maxy - miny)\n",
    "        root.radius[2] = (root.radius[2] - minz)/(maxz - minz)\n",
    "        root.radius[3] = (root.radius[3] - minr)/(maxr - minr)\n",
    "        \n",
    "        norm(root.left, mx, my, mz, mr, Mx, My, Mz, Mr)\n",
    "        norm(root.right, mx, my, mz, mr, Mx, My, Mz, Mr)\n",
    "        return \n",
    "\n",
    "def normalize_features(root):\n",
    "    features = []\n",
    "    features = traversefeatures(root, features)\n",
    "    \n",
    "    x = [tensor[0] for tensor in features]\n",
    "    y = [tensor[1] for tensor in features]\n",
    "    z = [tensor[2] for tensor in features]\n",
    "    r = [tensor[3] for tensor in features]\n",
    " \n",
    "    norm(root, min(x), min(y), min(z), min(r), max(x), max(y), max(z), max(r))\n",
    "\n",
    "    return \n",
    "\n",
    "def traversefeatures(root, features):\n",
    "       \n",
    "    if root is not None:\n",
    "        traversefeatures(root.left, features)\n",
    "        features.append(root.radius)\n",
    "        traversefeatures(root.right, features)\n",
    "        return features\n",
    "\n",
    "def calcularLossAtributo(nodo, radio):\n",
    "    if nodo is None:\n",
    "        return\n",
    "    radio = radio.reshape(-1,4)\n",
    "    nodo = nodo.radius.reshape(-1,4)\n",
    "    l2    = nn.MSELoss()\n",
    "   \n",
    "    mse = l2(radio, nodo)\n",
    "    return mse\n",
    "\n",
    "def searchNode(node, key):\n",
    "     \n",
    "    if (node == None):\n",
    "        return False\n",
    " \n",
    "    if (node.data == key):\n",
    "        return node\n",
    "        \n",
    " \n",
    "    \"\"\" then recur on left subtree \"\"\"\n",
    "    res1 = searchNode(node.left, key)\n",
    "    # node found, no need to look further\n",
    "    if res1:\n",
    "        return res1\n",
    " \n",
    "    \"\"\" node is not found in left,\n",
    "    so recur on right subtree \"\"\"\n",
    "    res2 = searchNode(node.right, key)\n",
    "    return res2\n",
    "\n",
    "def getLevelUtil(node, data, level):\n",
    "    if (node == None):\n",
    "        return 0\n",
    " \n",
    "    if (node.data == data):\n",
    "        return level\n",
    " \n",
    "    downlevel = getLevelUtil(node.left, data, level + 1)\n",
    "\n",
    "    if (downlevel != 0):\n",
    "        return downlevel\n",
    " \n",
    "    downlevel = getLevelUtil(node.right, data, level + 1)\n",
    "    return downlevel\n",
    " \n",
    "# Returns level of given data value\n",
    " \n",
    " \n",
    "def getLevel(node, data):\n",
    "    return getLevelUtil(node, data, 1)\n",
    " \n",
    "\n",
    "def set_tree_level(data_loader):\n",
    "    for d in data_loader:\n",
    "        for data in d:\n",
    "            count = []\n",
    "            numerar_nodos(data, count)\n",
    "            c = []\n",
    "            n_nodes = data.count_nodes(data, c)\n",
    "            for x in range(0, len(n_nodes)):\n",
    "                level = getLevel(data, x)\n",
    "                if (level):\n",
    "                    node = searchNode(data, x)\n",
    "                    node.level = getLevel(data, x)\n",
    "                else:\n",
    "                    print(x, \"is not present in tree\")\n",
    "            tree_level = []\n",
    "            data.get_tree_level(data, tree_level)\n",
    "            data.set_tree_level(data, sum(tree_level))\n",
    "\n",
    "def calcularLossEstructura(cl_p, original, mult):\n",
    "        \n",
    "        if original is None:\n",
    "            return\n",
    "        ce = nn.CrossEntropyLoss(weight = mult)\n",
    "\n",
    "        if original.childs() == 0:\n",
    "            vector = [1, 0, 0] \n",
    "        if original.childs() == 1:\n",
    "            vector = [0, 1, 0]\n",
    "        if original.childs() == 2:\n",
    "            vector = [0, 0, 1] \n",
    "\n",
    "\n",
    "        c = ce(cl_p, torch.tensor(vector, device=device, dtype = torch.float).reshape(1, 3))\n",
    "        return c\n",
    "\n",
    "def number_nodes(data_loader, batch_size):\n",
    "    n_no = []\n",
    "    qzero = 0\n",
    "    qOne = 0\n",
    "    qtwo = 0\n",
    "    for batch in data_loader:\n",
    "        for tree in batch:\n",
    "            count = []\n",
    "            n = tree.count_nodes(tree, count)\n",
    "            n_no.append(len(n))\n",
    "            li = []\n",
    "            tree.traverseInorderChilds(tree, li)\n",
    "            zero = [a for a in li if a == 0]\n",
    "            one = [a for a in li if a == 1]\n",
    "            two = [a for a in li if a == 2]\n",
    "            qzero += len(zero)\n",
    "            qOne += len(one)\n",
    "            qtwo += len(two)\n",
    "\n",
    "    nprom = np.mean(n_no)\n",
    "    qzero /= len(data_loader)*batch_size\n",
    "    qOne /= len(data_loader)*batch_size\n",
    "    qtwo /= len(data_loader)*batch_size\n",
    "    if round(qzero) == 0:\n",
    "        qzero = 1\n",
    "    if round(qOne) == 0:\n",
    "        qOne = 1\n",
    "    if round(qtwo) == 0:\n",
    "        qtwo = 1\n",
    "    mult = torch.tensor([1/round(qzero),1/round(qOne),1/round(qtwo)], device = device)\n",
    "    return mult\n",
    "    "
   ]
  },
  {
   "cell_type": "code",
   "execution_count": 11,
   "metadata": {},
   "outputs": [],
   "source": [
    "def my_collate(batch):\n",
    "    return batch\n",
    "\n",
    "\n",
    "class tDataset(Dataset):\n",
    "    def __init__(self, l, dir, transform=None):\n",
    "        self.names = l\n",
    "        self.transform = transform\n",
    "        self.data = [] #lista con las strings de todos los arboles\n",
    "        for file in self.names:\n",
    "            self.data.append(read_tree(file, dir))\n",
    "        self.trees = []\n",
    "        for tree in self.data:\n",
    "            deserial = deserialize(tree)\n",
    "            normalize_features(deserial)\n",
    "            self.trees.append(deserial)\n",
    "\n",
    "    def __len__(self):\n",
    "        return len(self.names)\n",
    "\n",
    "    def __getitem__(self, idx):\n",
    "        #file = self.names[idx]\n",
    "        #string = read_tree(file)\n",
    "        tree = self.trees[idx]\n",
    "        return tree\n",
    "\n",
    "batch_size = 1"
   ]
  },
  {
   "cell_type": "code",
   "execution_count": 12,
   "metadata": {},
   "outputs": [],
   "source": [
    "import uuid\n",
    "from ipywidgets import Output, HBox\n",
    "rendertype = 'JUPYTER'\n",
    "\n",
    "class Subplot():\n",
    "    def __init__(self, data, view, s):\n",
    "        if data == None:\n",
    "            self.rows = []\n",
    "            self.hboxes = []\n",
    "        else:\n",
    "            self.rows = data.rows\n",
    "        if s[0] != 1 or s[1] != 1:\n",
    "            if data == None: # Intialize subplot array\n",
    "                cnt = 0\n",
    "                for r in range(s[0]):\n",
    "                    row = []\n",
    "                    for c in range(s[1]):\n",
    "                        row.append(Output())\n",
    "                        cnt += 1\n",
    "                    self.rows.append(row)\n",
    "\n",
    "                for r in self.rows:\n",
    "                    hbox = HBox(r)\n",
    "                    if rendertype == \"JUPYTER\":\n",
    "                        display(hbox)\n",
    "                    self.hboxes.append(hbox)\n",
    "        \n",
    "            out = self.rows[int(s[2]/s[1])][s[2]%s[1]]\n",
    "            if rendertype == \"JUPYTER\":\n",
    "                with out:\n",
    "                    display(view._renderer)\n",
    "            self.rows[int(s[2]/s[1])][s[2]%s[1]] = view\n",
    "\n",
    "    def save(self, filename=\"\"):\n",
    "        if filename == \"\":\n",
    "            uid = str(uuid.uuid4()) + \".html\"\n",
    "        else:\n",
    "            filename = filename.replace(\".html\", \"\")\n",
    "            uid = filename + '.html'\n",
    "\n",
    "        s = \"\"\n",
    "        imports = True\n",
    "        for r in self.rows:\n",
    "            for v in r:\n",
    "                s1 = v.to_html(imports=imports, html_frame=False)\n",
    "                s = s + s1\n",
    "                imports = False\n",
    "\n",
    "        s = \"<html>\\n<body>\\n\" + s + \"\\n</body>\\n</html>\"\n",
    "        with open(uid, \"w\") as f:\n",
    "            f.write(s)\n",
    "        print(\"Plot saved to file %s.\"%uid)\n",
    "\n",
    "    def to_html(self, imports=True, html_frame=True):\n",
    "        s = \"\"\n",
    "        for r in self.rows:\n",
    "            for v in r:\n",
    "                s1 = v.to_html(imports=imports, html_frame=html_frame)\n",
    "                s = s + s1\n",
    "                imports = False\n",
    "\n",
    "        return s"
   ]
  },
  {
   "cell_type": "code",
   "execution_count": 13,
   "metadata": {},
   "outputs": [],
   "source": [
    "def subplot(f, c = 'red', uv=None, n=None, shading={}, s=[1, 1, 0], data=None, **kwargs):\n",
    "    \n",
    "    shading={'point_size':0.1, \"point_color\": c, \"line_color\": c, \"width\":400, \"height\":400}\n",
    "    view = mp.Viewer(settings = {\"width\": 500, \"height\": 500, \"antialias\": True, \"scale\": 1.5, \"background\": \"#ffffff\",\n",
    "                \"fov\": 30})\n",
    "\n",
    "    obj = view.add_points(np.array([ f.nodes[v]['posicion'] for v in f.nodes]), shading=shading)\n",
    "    #view.add_lines(v, f, shading=shading)\n",
    "    for arista in f.edges:\n",
    "        obj = view.add_lines( f.nodes[arista[0]]['posicion'], f.nodes[arista[1]]['posicion'], shading  = shading)\n",
    "   \n",
    "    subplot = Subplot(data, view, s)\n",
    "    #subplot = view\n",
    "    return subplot\n",
    "\n",
    "def sTree( root, dec, s, c, d=None):\n",
    "    graph = nx.Graph()\n",
    "    root.toGraph( graph, 0, dec)\n",
    "    #edges=nx.get_edge_attributes(graph,'procesada')\n",
    "\n",
    "    #shading={'point_size':0.1, \"point_color\": c, \"line_color\": c}\n",
    "    #d = subplot( graph, c, s)\n",
    "    if d:\n",
    "        subplot(graph, c=c, s=s, data = d)\n",
    "    else:\n",
    "        \n",
    "        d = subplot(graph, c=c, s=s)\n",
    "    \n",
    "    #for arista in graph.edges:\n",
    "    #    d.add_lines( graph.nodes[arista[0]]['posicion'], graph.nodes[arista[1]]['posicion'], shading  = shading)\n",
    "    return d"
   ]
  },
  {
   "cell_type": "code",
   "execution_count": 14,
   "metadata": {},
   "outputs": [
    {
     "name": "stdout",
     "output_type": "stream",
     "text": [
      "t_list 100\n"
     ]
    },
    {
     "data": {
      "application/vnd.jupyter.widget-view+json": {
       "model_id": "8cec49fd385a4807a33a6461c4356101",
       "version_major": 2,
       "version_minor": 0
      },
      "text/plain": [
       "HBox(children=(Output(), Output()))"
      ]
     },
     "metadata": {},
     "output_type": "display_data"
    },
    {
     "data": {
      "application/vnd.jupyter.widget-view+json": {
       "model_id": "e5777fe5ed0343bda58d55f7d94d59aa",
       "version_major": 2,
       "version_minor": 0
      },
      "text/plain": [
       "HBox(children=(Output(), Output()))"
      ]
     },
     "metadata": {},
     "output_type": "display_data"
    },
    {
     "data": {
      "application/vnd.jupyter.widget-view+json": {
       "model_id": "0d212a114a9b4525a93f9d4ea1b3ab53",
       "version_major": 2,
       "version_minor": 0
      },
      "text/plain": [
       "HBox(children=(Output(), Output()))"
      ]
     },
     "metadata": {},
     "output_type": "display_data"
    },
    {
     "data": {
      "application/vnd.jupyter.widget-view+json": {
       "model_id": "a2678df151644fbb9eaf0f96e21c12ec",
       "version_major": 2,
       "version_minor": 0
      },
      "text/plain": [
       "HBox(children=(Output(), Output()))"
      ]
     },
     "metadata": {},
     "output_type": "display_data"
    },
    {
     "data": {
      "application/vnd.jupyter.widget-view+json": {
       "model_id": "a171943858814c059b338e274e15f010",
       "version_major": 2,
       "version_minor": 0
      },
      "text/plain": [
       "HBox(children=(Output(), Output()))"
      ]
     },
     "metadata": {},
     "output_type": "display_data"
    },
    {
     "data": {
      "application/vnd.jupyter.widget-view+json": {
       "model_id": "df0fc4c0e799464ebd1043e08d48e2a7",
       "version_major": 2,
       "version_minor": 0
      },
      "text/plain": [
       "HBox(children=(Output(), Output()))"
      ]
     },
     "metadata": {},
     "output_type": "display_data"
    },
    {
     "data": {
      "application/vnd.jupyter.widget-view+json": {
       "model_id": "442b2476bf9d4f13ad243e1bf15a5fd9",
       "version_major": 2,
       "version_minor": 0
      },
      "text/plain": [
       "HBox(children=(Output(), Output()))"
      ]
     },
     "metadata": {},
     "output_type": "display_data"
    },
    {
     "data": {
      "application/vnd.jupyter.widget-view+json": {
       "model_id": "861d293a48884461bd9f27bb82229e9b",
       "version_major": 2,
       "version_minor": 0
      },
      "text/plain": [
       "HBox(children=(Output(), Output()))"
      ]
     },
     "metadata": {},
     "output_type": "display_data"
    },
    {
     "data": {
      "application/vnd.jupyter.widget-view+json": {
       "model_id": "d7ad4bbe74ce41f69034a19ccbbf05be",
       "version_major": 2,
       "version_minor": 0
      },
      "text/plain": [
       "HBox(children=(Output(), Output()))"
      ]
     },
     "metadata": {},
     "output_type": "display_data"
    },
    {
     "data": {
      "application/vnd.jupyter.widget-view+json": {
       "model_id": "493a7fc0fe6e4c249385fc7bc726fe25",
       "version_major": 2,
       "version_minor": 0
      },
      "text/plain": [
       "HBox(children=(Output(), Output()))"
      ]
     },
     "metadata": {},
     "output_type": "display_data"
    },
    {
     "data": {
      "application/vnd.jupyter.widget-view+json": {
       "model_id": "ce83bb844cf84359b39f5a8bdc8e4085",
       "version_major": 2,
       "version_minor": 0
      },
      "text/plain": [
       "HBox(children=(Output(), Output()))"
      ]
     },
     "metadata": {},
     "output_type": "display_data"
    },
    {
     "data": {
      "application/vnd.jupyter.widget-view+json": {
       "model_id": "c8b1bcc353c04d908db1d28c9c76f66f",
       "version_major": 2,
       "version_minor": 0
      },
      "text/plain": [
       "HBox(children=(Output(), Output()))"
      ]
     },
     "metadata": {},
     "output_type": "display_data"
    },
    {
     "data": {
      "application/vnd.jupyter.widget-view+json": {
       "model_id": "1b2f64f0aa894dcdad5b890055710d04",
       "version_major": 2,
       "version_minor": 0
      },
      "text/plain": [
       "HBox(children=(Output(), Output()))"
      ]
     },
     "metadata": {},
     "output_type": "display_data"
    },
    {
     "data": {
      "application/vnd.jupyter.widget-view+json": {
       "model_id": "d54c4f3af4c14a8691f20a453ce4d130",
       "version_major": 2,
       "version_minor": 0
      },
      "text/plain": [
       "HBox(children=(Output(), Output()))"
      ]
     },
     "metadata": {},
     "output_type": "display_data"
    },
    {
     "data": {
      "application/vnd.jupyter.widget-view+json": {
       "model_id": "800c53009d8d4713a463ed6f08d27b3b",
       "version_major": 2,
       "version_minor": 0
      },
      "text/plain": [
       "HBox(children=(Output(), Output()))"
      ]
     },
     "metadata": {},
     "output_type": "display_data"
    },
    {
     "data": {
      "application/vnd.jupyter.widget-view+json": {
       "model_id": "87546f969a1843a2827bd339df25b9c2",
       "version_major": 2,
       "version_minor": 0
      },
      "text/plain": [
       "HBox(children=(Output(), Output()))"
      ]
     },
     "metadata": {},
     "output_type": "display_data"
    },
    {
     "data": {
      "application/vnd.jupyter.widget-view+json": {
       "model_id": "cc8fea5011f84e83bece7ee952ece1e4",
       "version_major": 2,
       "version_minor": 0
      },
      "text/plain": [
       "HBox(children=(Output(), Output()))"
      ]
     },
     "metadata": {},
     "output_type": "display_data"
    },
    {
     "data": {
      "application/vnd.jupyter.widget-view+json": {
       "model_id": "2d0bc124263745228ce4246317cf8cd0",
       "version_major": 2,
       "version_minor": 0
      },
      "text/plain": [
       "HBox(children=(Output(), Output()))"
      ]
     },
     "metadata": {},
     "output_type": "display_data"
    },
    {
     "data": {
      "application/vnd.jupyter.widget-view+json": {
       "model_id": "19727e7446584e668fffaa2d3620eb9e",
       "version_major": 2,
       "version_minor": 0
      },
      "text/plain": [
       "HBox(children=(Output(), Output()))"
      ]
     },
     "metadata": {},
     "output_type": "display_data"
    },
    {
     "data": {
      "application/vnd.jupyter.widget-view+json": {
       "model_id": "e8baa900a5734a8199d5b5792c53d9d1",
       "version_major": 2,
       "version_minor": 0
      },
      "text/plain": [
       "HBox(children=(Output(), Output()))"
      ]
     },
     "metadata": {},
     "output_type": "display_data"
    },
    {
     "data": {
      "application/vnd.jupyter.widget-view+json": {
       "model_id": "9d34b69b7cd1426a975c7458d15caa26",
       "version_major": 2,
       "version_minor": 0
      },
      "text/plain": [
       "HBox(children=(Output(), Output()))"
      ]
     },
     "metadata": {},
     "output_type": "display_data"
    },
    {
     "data": {
      "application/vnd.jupyter.widget-view+json": {
       "model_id": "9661add49e894a0b862095487832e7df",
       "version_major": 2,
       "version_minor": 0
      },
      "text/plain": [
       "HBox(children=(Output(), Output()))"
      ]
     },
     "metadata": {},
     "output_type": "display_data"
    },
    {
     "data": {
      "application/vnd.jupyter.widget-view+json": {
       "model_id": "d3687e10662e4b7997a4c4e07b2ac4f7",
       "version_major": 2,
       "version_minor": 0
      },
      "text/plain": [
       "HBox(children=(Output(), Output()))"
      ]
     },
     "metadata": {},
     "output_type": "display_data"
    },
    {
     "data": {
      "application/vnd.jupyter.widget-view+json": {
       "model_id": "3462d2305a6d44d59679d02089778fb8",
       "version_major": 2,
       "version_minor": 0
      },
      "text/plain": [
       "HBox(children=(Output(), Output()))"
      ]
     },
     "metadata": {},
     "output_type": "display_data"
    },
    {
     "data": {
      "application/vnd.jupyter.widget-view+json": {
       "model_id": "4fffd2bc39d24691b0d4fb29a39a4d90",
       "version_major": 2,
       "version_minor": 0
      },
      "text/plain": [
       "HBox(children=(Output(), Output()))"
      ]
     },
     "metadata": {},
     "output_type": "display_data"
    },
    {
     "data": {
      "application/vnd.jupyter.widget-view+json": {
       "model_id": "4a4ae001fa4e4358b99dbb0cfe176f3d",
       "version_major": 2,
       "version_minor": 0
      },
      "text/plain": [
       "HBox(children=(Output(), Output()))"
      ]
     },
     "metadata": {},
     "output_type": "display_data"
    },
    {
     "data": {
      "application/vnd.jupyter.widget-view+json": {
       "model_id": "6ad12dd833b744d59541b0bb78bdbdf6",
       "version_major": 2,
       "version_minor": 0
      },
      "text/plain": [
       "HBox(children=(Output(), Output()))"
      ]
     },
     "metadata": {},
     "output_type": "display_data"
    },
    {
     "data": {
      "application/vnd.jupyter.widget-view+json": {
       "model_id": "ac706de7e7c24e499ef761df5c1e27ad",
       "version_major": 2,
       "version_minor": 0
      },
      "text/plain": [
       "HBox(children=(Output(), Output()))"
      ]
     },
     "metadata": {},
     "output_type": "display_data"
    },
    {
     "data": {
      "application/vnd.jupyter.widget-view+json": {
       "model_id": "7c14a2b8fbde4907a9f95874c1f70409",
       "version_major": 2,
       "version_minor": 0
      },
      "text/plain": [
       "HBox(children=(Output(), Output()))"
      ]
     },
     "metadata": {},
     "output_type": "display_data"
    },
    {
     "data": {
      "application/vnd.jupyter.widget-view+json": {
       "model_id": "96f040f1a860496998898a53e8f9e5ee",
       "version_major": 2,
       "version_minor": 0
      },
      "text/plain": [
       "HBox(children=(Output(), Output()))"
      ]
     },
     "metadata": {},
     "output_type": "display_data"
    },
    {
     "data": {
      "application/vnd.jupyter.widget-view+json": {
       "model_id": "ac100b332a384a95a969afda2247aa75",
       "version_major": 2,
       "version_minor": 0
      },
      "text/plain": [
       "HBox(children=(Output(), Output()))"
      ]
     },
     "metadata": {},
     "output_type": "display_data"
    },
    {
     "data": {
      "application/vnd.jupyter.widget-view+json": {
       "model_id": "0e48b756131145b3b5eea6746be5e467",
       "version_major": 2,
       "version_minor": 0
      },
      "text/plain": [
       "HBox(children=(Output(), Output()))"
      ]
     },
     "metadata": {},
     "output_type": "display_data"
    },
    {
     "data": {
      "application/vnd.jupyter.widget-view+json": {
       "model_id": "6a4fe28b6ee84e4c8ac28271ea67490a",
       "version_major": 2,
       "version_minor": 0
      },
      "text/plain": [
       "HBox(children=(Output(), Output()))"
      ]
     },
     "metadata": {},
     "output_type": "display_data"
    },
    {
     "data": {
      "application/vnd.jupyter.widget-view+json": {
       "model_id": "f67cd8f284d3420e93c32dc4fd6c4de1",
       "version_major": 2,
       "version_minor": 0
      },
      "text/plain": [
       "HBox(children=(Output(), Output()))"
      ]
     },
     "metadata": {},
     "output_type": "display_data"
    },
    {
     "data": {
      "application/vnd.jupyter.widget-view+json": {
       "model_id": "7165361feca949c1883fe6eac7ab2dbf",
       "version_major": 2,
       "version_minor": 0
      },
      "text/plain": [
       "HBox(children=(Output(), Output()))"
      ]
     },
     "metadata": {},
     "output_type": "display_data"
    },
    {
     "data": {
      "application/vnd.jupyter.widget-view+json": {
       "model_id": "9d03a6df1603489281120abeea8d6d6e",
       "version_major": 2,
       "version_minor": 0
      },
      "text/plain": [
       "HBox(children=(Output(), Output()))"
      ]
     },
     "metadata": {},
     "output_type": "display_data"
    },
    {
     "data": {
      "application/vnd.jupyter.widget-view+json": {
       "model_id": "140ad917349d4793960c384f3c015265",
       "version_major": 2,
       "version_minor": 0
      },
      "text/plain": [
       "HBox(children=(Output(), Output()))"
      ]
     },
     "metadata": {},
     "output_type": "display_data"
    },
    {
     "data": {
      "application/vnd.jupyter.widget-view+json": {
       "model_id": "d8130f9b1ae4497fbbf61a7ed3da1fd5",
       "version_major": 2,
       "version_minor": 0
      },
      "text/plain": [
       "HBox(children=(Output(), Output()))"
      ]
     },
     "metadata": {},
     "output_type": "display_data"
    },
    {
     "data": {
      "application/vnd.jupyter.widget-view+json": {
       "model_id": "0b66dd355e2345f78e8437cd9d21ec10",
       "version_major": 2,
       "version_minor": 0
      },
      "text/plain": [
       "HBox(children=(Output(), Output()))"
      ]
     },
     "metadata": {},
     "output_type": "display_data"
    },
    {
     "data": {
      "application/vnd.jupyter.widget-view+json": {
       "model_id": "c7863ebe7c324f6099c97ccd24b087c1",
       "version_major": 2,
       "version_minor": 0
      },
      "text/plain": [
       "HBox(children=(Output(), Output()))"
      ]
     },
     "metadata": {},
     "output_type": "display_data"
    },
    {
     "data": {
      "application/vnd.jupyter.widget-view+json": {
       "model_id": "6efea0e1d776496296f8cecdf666246f",
       "version_major": 2,
       "version_minor": 0
      },
      "text/plain": [
       "HBox(children=(Output(), Output()))"
      ]
     },
     "metadata": {},
     "output_type": "display_data"
    },
    {
     "data": {
      "application/vnd.jupyter.widget-view+json": {
       "model_id": "30ac585e353a4533b3cabdd84315037d",
       "version_major": 2,
       "version_minor": 0
      },
      "text/plain": [
       "HBox(children=(Output(), Output()))"
      ]
     },
     "metadata": {},
     "output_type": "display_data"
    },
    {
     "data": {
      "application/vnd.jupyter.widget-view+json": {
       "model_id": "f19679a7771c474b9efce532fd102c3f",
       "version_major": 2,
       "version_minor": 0
      },
      "text/plain": [
       "HBox(children=(Output(), Output()))"
      ]
     },
     "metadata": {},
     "output_type": "display_data"
    },
    {
     "data": {
      "application/vnd.jupyter.widget-view+json": {
       "model_id": "42c16efd16e5483095c8207c8d77f731",
       "version_major": 2,
       "version_minor": 0
      },
      "text/plain": [
       "HBox(children=(Output(), Output()))"
      ]
     },
     "metadata": {},
     "output_type": "display_data"
    },
    {
     "data": {
      "application/vnd.jupyter.widget-view+json": {
       "model_id": "08c756440013426ca98e4b299c0d1a90",
       "version_major": 2,
       "version_minor": 0
      },
      "text/plain": [
       "HBox(children=(Output(), Output()))"
      ]
     },
     "metadata": {},
     "output_type": "display_data"
    },
    {
     "data": {
      "application/vnd.jupyter.widget-view+json": {
       "model_id": "613704a5045445369046816316988d82",
       "version_major": 2,
       "version_minor": 0
      },
      "text/plain": [
       "HBox(children=(Output(), Output()))"
      ]
     },
     "metadata": {},
     "output_type": "display_data"
    },
    {
     "data": {
      "application/vnd.jupyter.widget-view+json": {
       "model_id": "447087ef43a6436fa0dbd6111ad06dfb",
       "version_major": 2,
       "version_minor": 0
      },
      "text/plain": [
       "HBox(children=(Output(), Output()))"
      ]
     },
     "metadata": {},
     "output_type": "display_data"
    },
    {
     "data": {
      "application/vnd.jupyter.widget-view+json": {
       "model_id": "669494ed5b874450a3c56bbbd7517f30",
       "version_major": 2,
       "version_minor": 0
      },
      "text/plain": [
       "HBox(children=(Output(), Output()))"
      ]
     },
     "metadata": {},
     "output_type": "display_data"
    },
    {
     "data": {
      "application/vnd.jupyter.widget-view+json": {
       "model_id": "4a0517a932ae4866ad74d688c4001548",
       "version_major": 2,
       "version_minor": 0
      },
      "text/plain": [
       "HBox(children=(Output(), Output()))"
      ]
     },
     "metadata": {},
     "output_type": "display_data"
    },
    {
     "data": {
      "application/vnd.jupyter.widget-view+json": {
       "model_id": "2100370976844429af3814e472be2371",
       "version_major": 2,
       "version_minor": 0
      },
      "text/plain": [
       "HBox(children=(Output(), Output()))"
      ]
     },
     "metadata": {},
     "output_type": "display_data"
    },
    {
     "name": "stdout",
     "output_type": "stream",
     "text": [
      "Plot saved to file datasetplot.html.\n"
     ]
    }
   ],
   "source": [
    "folder = \"dataset\"\n",
    "#t_list = os.listdir(\"./Trees/\")\n",
    "t_list = ['ArteryObjAN201-15_tree.dat', 'ArteryObjAN168-10_tree.dat', 'ArteryObjAN161-14_tree.dat', 'ArteryObjAN186-12_tree.dat', 'ArteryObjAN1-2_tree.dat', 'ArteryObjAN178-5_tree.dat', 'ArteryObjAN116-11_tree.dat', 'ArteryObjAN215-11_tree.dat', 'ArteryObjAN215-7_tree.dat', 'ArteryObjAN135-18_tree.dat', 'ArteryObjAN191-10_tree.dat', 'ArteryObjAN204-18_tree.dat', 'ArteryObjAN215-8_tree.dat', 'ArteryObjAN208-17_tree.dat', 'ArteryObjAN11-4_tree.dat', 'ArteryObjAN119-19_tree.dat', 'ArteryObjAN212-9_tree.dat', 'ArteryObjAN197-1_tree.dat', 'ArteryObjAN44-10_tree.dat', 'ArteryObjAN163-4_tree.dat']\n",
    "t_list = os.listdir(\"./p10/\")\n",
    "t_list = ['553.dat', '727.dat', '666.dat', '513.dat', '901.dat', '410.dat', '986.dat', '651.dat', '364.dat', '917.dat', '919.dat', '250.dat', '467.dat', '786.dat', '152.dat', '39.dat', '402.dat', '338.dat', '254.dat', '449.dat', '1040.dat', '429.dat', '137.dat', '540.dat', '760.dat', '515.dat', '968.dat', '597.dat', '682.dat', '1042.dat', '1050.dat', '68.dat', '977.dat', '802.dat', '1037.dat', '422.dat', '186.dat', '29.dat', '183.dat', '999.dat', '840.dat', '645.dat', '800.dat', '99.dat', '107.dat', '441.dat', '696.dat', '543.dat', '925.dat', '899.dat', '698.dat', '269.dat', '348.dat', '577.dat', '618.dat', '370.dat', '720.dat', '752.dat', '424.dat', '516.dat', '590.dat', '530.dat', '544.dat', '748.dat', '785.dat', '769.dat', '532.dat', '534.dat', '360.dat', '382.dat', '576.dat', '589.dat', '823.dat', '648.dat', '721.dat', '167.dat', '833.dat', '263.dat', '358.dat', '310.dat', '817.dat', '882.dat', '904.dat', '409.dat', '948.dat', '87.dat', '804.dat', '571.dat', '951.dat', '72.dat', '966.dat', '367.dat', '110.dat', '549.dat', '473.dat', '936.dat', '708.dat', '118.dat', '216.dat', '661.dat']\n",
    "dataset = tDataset(t_list, 'p10')\n",
    "data_loader = DataLoader(dataset, batch_size = batch_size, shuffle=True, collate_fn=my_collate)\n",
    "    \n",
    "i = 0\n",
    "d = None\n",
    "for batch in data_loader:\n",
    "    for input in batch:\n",
    "        if d is None:\n",
    "            d = sTree(input, False, c = \"black\", s = [50,2,i])\n",
    "        else:\n",
    "            sTree(input, False, c = \"black\", s = [50,2,i], d=d)\n",
    "\n",
    "        #sTree(input, True,  s = [1,1,i+1], c = \"black\", d=d)\n",
    "        i += 1\n",
    "d.save(\"datasetplot.html\")"
   ]
  }
 ],
 "metadata": {
  "kernelspec": {
   "display_name": "py_torc",
   "language": "python",
   "name": "python3"
  },
  "language_info": {
   "codemirror_mode": {
    "name": "ipython",
    "version": 3
   },
   "file_extension": ".py",
   "mimetype": "text/x-python",
   "name": "python",
   "nbconvert_exporter": "python",
   "pygments_lexer": "ipython3",
   "version": "3.10.4"
  },
  "orig_nbformat": 4,
  "vscode": {
   "interpreter": {
    "hash": "8f3e717cd274da89498094fde320e6eab1bf0f52911d27cf47473187acb3fe8a"
   }
  }
 },
 "nbformat": 4,
 "nbformat_minor": 2
}
